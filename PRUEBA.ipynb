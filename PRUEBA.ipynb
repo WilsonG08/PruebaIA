{
  "nbformat": 4,
  "nbformat_minor": 0,
  "metadata": {
    "colab": {
      "provenance": [],
      "authorship_tag": "ABX9TyOVShAFKLInI6CjCyN0fQEn",
      "include_colab_link": true
    },
    "kernelspec": {
      "name": "python3",
      "display_name": "Python 3"
    },
    "language_info": {
      "name": "python"
    }
  },
  "cells": [
    {
      "cell_type": "markdown",
      "metadata": {
        "id": "view-in-github",
        "colab_type": "text"
      },
      "source": [
        "<a href=\"https://colab.research.google.com/github/WilsonG08/PruebaIA/blob/main/PRUEBA.ipynb\" target=\"_parent\"><img src=\"https://colab.research.google.com/assets/colab-badge.svg\" alt=\"Open In Colab\"/></a>"
      ]
    },
    {
      "cell_type": "code",
      "execution_count": 1,
      "metadata": {
        "id": "i0MwvbLyyPzF"
      },
      "outputs": [],
      "source": [
        "# Importacion de librerias\n",
        "\n",
        "from sklearn.tree import DecisionTreeClassifier\n",
        "from sklearn.model_selection import train_test_split\n",
        "import pandas as pd\n",
        "from sklearn.metrics import accuracy_score, confusion_matrix\n",
        "from sklearn.datasets import load_iris\n",
        "\n",
        "import seaborn as sns\n",
        "import matplotlib.pyplot as plt"
      ]
    },
    {
      "cell_type": "code",
      "source": [
        "# Leer el archivo \n",
        "datosCSV = pd.read_csv(\"zoo.csv\")\n",
        "\n",
        "# Datos de entrada (caracteristicas)\n",
        "X = datosCSV.iloc[:, 1:-1] # Todas las columnas excepto la ultima\n",
        "# Datos de salida (caracteristicas)\n",
        "y = datosCSV.iloc[:, -1] # Ultima columna\n",
        "\n",
        "# Dividir los datos \n",
        "X_train, X_test, y_train, y_test = train_test_split(X, y, test_size=0.3, random_state=25)\n",
        "\n",
        "\n",
        "# Creacion del modelo de arbol de decision\n",
        "modeloArbol = DecisionTreeClassifier()\n",
        "\n",
        "\n",
        "# Entrenar el modelo con los datos de entrenamiento\n",
        "modeloArbol.fit(X_train, y_train)\n",
        "\n",
        "\n",
        "#Probar el modelo con los datos de prueba\n",
        "y_obt = modeloArbol.predict(X_test)\n",
        "\n",
        "\n",
        "# Calcular la exactitud del modelo\n",
        "exactitudModelo = accuracy_score(y_test, y_obt)\n",
        "print(\"La exactitud del modelo es : \", exactitudModelo)\n",
        "\n",
        "\n",
        "# Prediccion 1\n",
        "# Con el modelo desarrollado, predecir el tipo de animal\n",
        "predAnimal1 = [[0, 0, 0, 0, 1, 0, 0, 0, 0, 1, 0, 0, 6, 0, 0, ]]\n",
        "tipoAnimal1 = modeloArbol.predict(predAnimal1)\n",
        "print(\"La mariposa es:  \", tipoAnimal1)\n",
        "\n",
        "\n",
        "predAnimal2 = [[0, 1, 1, 0, 1, 0, 1, 0, 1, 1, 0, 0, 2, 1, 0, ]]\n",
        "tipoAnimal2 = modeloArbol.predict(predAnimal2)\n",
        "print(\"El canario es:  \", tipoAnimal2)\n",
        "\n",
        "predAnimal3 = [[1, 0, 0, 1, 0, 0, 0, 1, 1, 1, 0, 0, 4, 1, 0]]\n",
        "tipoAnimal3 = modeloArbol.predict(predAnimal3)\n",
        "print(\"El mono es:  \", tipoAnimal3)\n",
        "\n",
        "\n",
        "predAnimal4 = [[0, 0, 1, 0, 0, 1, 1, 1, 1, 1, 0, 1, 0, 0, 0]]\n",
        "tipoAnimal4 = modeloArbol.predict(predAnimal4)\n",
        "print(\"El tiburon es: \", tipoAnimal4)\n",
        "\n",
        "\n",
        "predAnimal5 = [[0, 0, 1, 0, 0, 0, 1, 1, 1, 1, 0, 0, 0, 4, 0]]\n",
        "tipoAnimal5 = modeloArbol.predict(predAnimal5)\n",
        "print(\"El largarto es: \", tipoAnimal5)\n",
        "\n",
        "predAnimal6 = [[0, 0, 1, 0, 0, 0, 1, 1, 0, 1, 0, 0, 30, 0, 0]]\n",
        "tipoAnimal6 = modeloArbol.predict(predAnimal6)\n",
        "print(\"El cienpies es: \", tipoAnimal6)\n",
        "\n",
        "\n",
        "# Matriz de confusion \n",
        "confusion = confusion_matrix(y_test, y_obt)\n",
        "\n",
        "# Mapa de calor para la matriz de confusio\n",
        "sns.heatmap(confusion, annot=True, fmt='d', cmap='YlOrRd')\n",
        "plt.title('Matriz de confusión')\n",
        "plt.xlabel('Predicciones')\n",
        "plt.ylabel('Valores reales')\n",
        "plt.show()\n",
        "\n",
        "\n",
        "#Obteber la importancia de las características\n",
        "Importancia_caracteristicas = modeloArbol.feature_importances_\n",
        "\n",
        "#Obtener nombre caracteristica\n",
        "nombres= datosCSV.columns.tolist()\n",
        "\n",
        "# Imprimir la importancia caracteristicas\n",
        "print(\"Importancia caracteristicas\")\n",
        "for nombre_carc, impt in zip (Importancia_caracteristicas, nombres):\n",
        "  print(f\"{nombre_carc}:{impt}\")"
      ],
      "metadata": {
        "colab": {
          "base_uri": "https://localhost:8080/",
          "height": 1000
        },
        "id": "iMmWJ9ffydEc",
        "outputId": "ea98596a-6e3f-490b-9649-418f0d95fa5d"
      },
      "execution_count": 20,
      "outputs": [
        {
          "output_type": "stream",
          "name": "stdout",
          "text": [
            "La exactitud del modelo es :  0.9032258064516129\n",
            "La mariposa es:   [6]\n",
            "El canario es:   [2]\n",
            "El mono es:   [1]\n",
            "El tiburon es:  [4]\n",
            "El largarto es:  [3]\n",
            "El cienpies es:  [6]\n"
          ]
        },
        {
          "output_type": "stream",
          "name": "stderr",
          "text": [
            "/usr/local/lib/python3.10/dist-packages/sklearn/base.py:439: UserWarning: X does not have valid feature names, but DecisionTreeClassifier was fitted with feature names\n",
            "  warnings.warn(\n",
            "/usr/local/lib/python3.10/dist-packages/sklearn/base.py:439: UserWarning: X does not have valid feature names, but DecisionTreeClassifier was fitted with feature names\n",
            "  warnings.warn(\n",
            "/usr/local/lib/python3.10/dist-packages/sklearn/base.py:439: UserWarning: X does not have valid feature names, but DecisionTreeClassifier was fitted with feature names\n",
            "  warnings.warn(\n",
            "/usr/local/lib/python3.10/dist-packages/sklearn/base.py:439: UserWarning: X does not have valid feature names, but DecisionTreeClassifier was fitted with feature names\n",
            "  warnings.warn(\n",
            "/usr/local/lib/python3.10/dist-packages/sklearn/base.py:439: UserWarning: X does not have valid feature names, but DecisionTreeClassifier was fitted with feature names\n",
            "  warnings.warn(\n",
            "/usr/local/lib/python3.10/dist-packages/sklearn/base.py:439: UserWarning: X does not have valid feature names, but DecisionTreeClassifier was fitted with feature names\n",
            "  warnings.warn(\n"
          ]
        },
        {
          "output_type": "display_data",
          "data": {
            "text/plain": [
              "<Figure size 640x480 with 2 Axes>"
            ],
            "image/png": "[encoded data removed]"
          },
          "metadata": {}
        },
        {
          "output_type": "stream",
          "name": "stdout",
          "text": [
            "Importancia caracteristicas\n",
            "0.0:animal_name\n",
            "0.21986387246999806:hair\n",
            "0.0:feathers\n",
            "0.38653053913666496:eggs\n",
            "0.0:milk\n",
            "0.03627082213863513:airborne\n",
            "0.0:aquatic\n",
            "0.0:predator\n",
            "0.07978000442519835:toothed\n",
            "0.09027404621171413:backbone\n",
            "0.0:breathes\n",
            "0.15907007617662863:venomous\n",
            "0.028210639441160663:fins\n",
            "0.0:legs\n",
            "0.0:tail\n"
          ]
        }
      ]
    },
    {
      "cell_type": "code",
      "source": [
        "\n"
      ],
      "metadata": {
        "id": "VqE7ln_FzXUt"
      },
      "execution_count": null,
      "outputs": []
    }
  ]
}